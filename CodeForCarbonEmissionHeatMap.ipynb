{
 "cells": [
  {
   "cell_type": "markdown",
   "id": "12758a74",
   "metadata": {},
   "source": [
    "Create a view in the first stage.\n",
    "The view has already created in the database.\n",
    "The following cell is the SQL for Station_Emissions View"
   ]
  },
  {
   "cell_type": "code",
   "execution_count": 2,
   "id": "0dd3aab6-9790-40f5-b339-404fccec7a11",
   "metadata": {},
   "outputs": [],
   "source": [
    "#CREATE VIEW Station_Emissions AS\n",
    "#SELECT\n",
    "#    rs.StationID,\n",
    "#    r.RouteID,\n",
    "#    SUM(\n",
    "#        CASE \n",
    "#            WHEN pc.PassengerCount > 0 AND rpc.TotalPassengerCount > 0 AND c.TotalCarbonEmissions_kg > 0\n",
    "#            THEN c.TotalCarbonEmissions_kg * pc.PassengerCount / rpc.TotalPassengerCount\n",
    "#            ELSE 0\n",
    "#        END\n",
    "#    ) AS StationCarbonEmissions\n",
    "#FROM\n",
    "#    RouteStation rs\n",
    "#JOIN\n",
    "#    Route r ON rs.RouteID = r.RouteID\n",
    "#JOIN\n",
    "#    Passenger_Counts pc ON rs.StationID = pc.StationID\n",
    "#JOIN\n",
    "#    Carbon_Emission c ON r.EmissionID = c.EmissionID\n",
    "#JOIN\n",
    "#    (\n",
    "#        SELECT\n",
    "#            rs.RouteID,\n",
    "#            SUM(pc.PassengerCount) AS TotalPassengerCount\n",
    "#        FROM\n",
    "#            RouteStation rs\n",
    "#        JOIN\n",
    "#            Passenger_Counts pc ON rs.StationID = pc.StationID\n",
    "#        WHERE pc.PassengerCount > 0\n",
    "#        GROUP BY\n",
    "#            rs.RouteID\n",
    "#    ) rpc ON r.RouteID = rpc.RouteID\n",
    "#GROUP BY\n",
    "#    rs.StationID, r.RouteID"
   ]
  },
  {
   "cell_type": "code",
   "execution_count": 2,
   "id": "f1fbc221",
   "metadata": {},
   "outputs": [
    {
     "data": {
      "text/plain": [
       "'C:/Users/10713/Desktop/station_emissions_with_location.csv'"
      ]
     },
     "execution_count": 2,
     "metadata": {},
     "output_type": "execute_result"
    }
   ],
   "source": [
    "import sqlite3\n",
    "import pandas as pd\n",
    "\n",
    "db_path = 'C:/Users/10713/Desktop/LondonTransportation.db' \n",
    "conn = sqlite3.connect(db_path)\n",
    "\n",
    "query = \"\"\"\n",
    "SELECT \n",
    "    s.StationID,\n",
    "    s.Latitude,\n",
    "    s.Longitude,\n",
    "    SUM(se.StationCarbonEmissions) AS TotalStationEmissions\n",
    "FROM \n",
    "    Station s\n",
    "JOIN \n",
    "    Station_Emissions se ON s.StationID = se.StationID\n",
    "GROUP BY \n",
    "    s.StationID, s.Latitude, s.Longitude;\n",
    "\"\"\"\n",
    "df = pd.read_sql_query(query, conn)\n",
    "\n",
    "output_path = \"C:/Users/10713/Desktop/station_emissions_with_location.csv\"\n",
    "df.to_csv(output_path, index=False)\n",
    "\n",
    "conn.close()\n",
    "\n",
    "output_path\n"
   ]
  },
  {
   "cell_type": "code",
   "execution_count": 3,
   "id": "ff9cffaa",
   "metadata": {
    "scrolled": true
   },
   "outputs": [
    {
     "name": "stdout",
     "output_type": "stream",
     "text": [
      "Collecting foliumNote: you may need to restart the kernel to use updated packages.\n",
      "\n",
      "  Obtaining dependency information for folium from https://files.pythonhosted.org/packages/fc/ab/d1f47c48a14e17cd487c8b467b573291fae75477b067241407e7889a3692/folium-0.19.4-py2.py3-none-any.whl.metadata\n",
      "  Downloading folium-0.19.4-py2.py3-none-any.whl.metadata (3.8 kB)\n",
      "Requirement already satisfied: pandas in c:\\users\\10713\\anaconda3\\lib\\site-packages (1.5.3)\n",
      "Collecting branca>=0.6.0 (from folium)\n",
      "  Obtaining dependency information for branca>=0.6.0 from https://files.pythonhosted.org/packages/f8/9d/91cddd38bd00170aad1a4b198c47b4ed716be45c234e09b835af41f4e717/branca-0.8.1-py3-none-any.whl.metadata\n",
      "  Downloading branca-0.8.1-py3-none-any.whl.metadata (1.5 kB)\n",
      "Requirement already satisfied: jinja2>=2.9 in c:\\users\\10713\\anaconda3\\lib\\site-packages (from folium) (3.1.2)\n",
      "Requirement already satisfied: numpy in c:\\users\\10713\\anaconda3\\lib\\site-packages (from folium) (1.24.3)\n",
      "Requirement already satisfied: requests in c:\\users\\10713\\anaconda3\\lib\\site-packages (from folium) (2.31.0)\n",
      "Requirement already satisfied: xyzservices in c:\\users\\10713\\anaconda3\\lib\\site-packages (from folium) (2022.9.0)\n",
      "Requirement already satisfied: python-dateutil>=2.8.1 in c:\\users\\10713\\anaconda3\\lib\\site-packages (from pandas) (2.8.2)\n",
      "Requirement already satisfied: pytz>=2020.1 in c:\\users\\10713\\anaconda3\\lib\\site-packages (from pandas) (2022.7)\n",
      "Requirement already satisfied: MarkupSafe>=2.0 in c:\\users\\10713\\anaconda3\\lib\\site-packages (from jinja2>=2.9->folium) (2.1.1)\n",
      "Requirement already satisfied: six>=1.5 in c:\\users\\10713\\anaconda3\\lib\\site-packages (from python-dateutil>=2.8.1->pandas) (1.16.0)\n",
      "Requirement already satisfied: charset-normalizer<4,>=2 in c:\\users\\10713\\anaconda3\\lib\\site-packages (from requests->folium) (2.0.4)\n",
      "Requirement already satisfied: idna<4,>=2.5 in c:\\users\\10713\\anaconda3\\lib\\site-packages (from requests->folium) (3.4)\n",
      "Requirement already satisfied: urllib3<3,>=1.21.1 in c:\\users\\10713\\anaconda3\\lib\\site-packages (from requests->folium) (1.26.16)\n",
      "Requirement already satisfied: certifi>=2017.4.17 in c:\\users\\10713\\anaconda3\\lib\\site-packages (from requests->folium) (2023.7.22)\n",
      "Downloading folium-0.19.4-py2.py3-none-any.whl (110 kB)\n",
      "   ---------------------------------------- 0.0/110.5 kB ? eta -:--:--\n",
      "   ---------------------------------------- 110.5/110.5 kB 6.3 MB/s eta 0:00:00\n",
      "Downloading branca-0.8.1-py3-none-any.whl (26 kB)\n",
      "Installing collected packages: branca, folium\n",
      "Successfully installed branca-0.8.1 folium-0.19.4\n"
     ]
    }
   ],
   "source": [
    "pip install folium pandas\n"
   ]
  },
  {
   "cell_type": "code",
   "execution_count": 22,
   "id": "f6573b3c",
   "metadata": {},
   "outputs": [
    {
     "name": "stdout",
     "output_type": "stream",
     "text": [
      "Heatmap saved as station_emissions_heatmap.html\n"
     ]
    }
   ],
   "source": [
    "import pandas as pd\n",
    "import folium\n",
    "from folium.plugins import HeatMap\n",
    "\n",
    "data = pd.read_csv(\"station_emissions_with_location.csv\")\n",
    "\n",
    "map_center = [data['Latitude'].mean(), data['Longitude'].mean()]\n",
    "m = folium.Map(location=map_center, zoom_start=12)\n",
    "\n",
    "heat_data = [\n",
    "    [row['Latitude'], row['Longitude'], row['TotalStationEmissions']] \n",
    "    for index, row in data.iterrows()\n",
    "]\n",
    "\n",
    "HeatMap(heat_data, radius=15, blur=10).add_to(m)\n",
    "\n",
    "m.save(\"station_emissions_heatmap.html\")\n",
    "print(\"Heatmap saved as station_emissions_heatmap.html\")\n"
   ]
  }
 ],
 "metadata": {
  "kernelspec": {
   "display_name": "Python 3 (ipykernel)",
   "language": "python",
   "name": "python3"
  },
  "language_info": {
   "codemirror_mode": {
    "name": "ipython",
    "version": 3
   },
   "file_extension": ".py",
   "mimetype": "text/x-python",
   "name": "python",
   "nbconvert_exporter": "python",
   "pygments_lexer": "ipython3",
   "version": "3.12.4"
  }
 },
 "nbformat": 4,
 "nbformat_minor": 5
}
